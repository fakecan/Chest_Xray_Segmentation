{
 "cells": [
  {
   "cell_type": "markdown",
   "id": "1fc188a6-5ab8-4ba2-b042-774e480b1439",
   "metadata": {
    "tags": []
   },
   "source": [
    "# 1. Starting point"
   ]
  },
  {
   "cell_type": "markdown",
   "id": "7b92781d-d10b-4ecc-af0c-3240fa5cf773",
   "metadata": {},
   "source": [
    "Input: (256, 256, 3) Chest X-ray image 566개\n",
    "<br>\n",
    "Label: 좌우 lung 마스킹되어 있는 흑백 이미지 566개\n",
    "<br><br>\n",
    "이미지 기준 좌측 폐: Right lung\n",
    "이미지 기준 우측 폐: Left lung\n",
    "<br>\n",
    "※ Task<br>\n",
    "&nbsp;&nbsp;&nbsp;    - Left lung, Right lung 분할(2 classes + 1 class(background)) <br>\n",
    "&nbsp;&nbsp;&nbsp;    - 훈련 & 추론 + 후처리(보간법) 노이즈 제거(예측 성능 ↑)"
   ]
  },
  {
   "cell_type": "markdown",
   "id": "f6fabd0b-70f9-413f-829b-39cae4f9a749",
   "metadata": {
    "tags": []
   },
   "source": [
    "## 데이터 구조"
   ]
  },
  {
   "cell_type": "markdown",
   "id": "4351c35e-e4f0-4e42-9a7c-34a62f85e542",
   "metadata": {},
   "source": [
    "data <br>\n",
    "&nbsp;&nbsp;    └ image/ <br>\n",
    "&nbsp;&nbsp;&nbsp;&nbsp;&nbsp;&nbsp;&nbsp;&nbsp;&nbsp;&nbsp;&nbsp;&nbsp;&nbsp;&nbsp;&nbsp;&nbsp;&nbsp;        resize_CHNCXR_0001_0.png <br>\n",
    "&nbsp;&nbsp;&nbsp;&nbsp;&nbsp;&nbsp;&nbsp;&nbsp;&nbsp;&nbsp;&nbsp;&nbsp;&nbsp;&nbsp;&nbsp;&nbsp;&nbsp;        resize_CHNCXR_0002_0.png <br>\n",
    "&nbsp;&nbsp;&nbsp;&nbsp;&nbsp;&nbsp;&nbsp;&nbsp;&nbsp;&nbsp;&nbsp;&nbsp;&nbsp;&nbsp;&nbsp;&nbsp;&nbsp;        resize_CHNCXR_0003_0.png <br>\n",
    "&nbsp;&nbsp;&nbsp;&nbsp;&nbsp;&nbsp;&nbsp;&nbsp;&nbsp;&nbsp;&nbsp;&nbsp;&nbsp;&nbsp;&nbsp;&nbsp;&nbsp;        ... <br>\n",
    "&nbsp;&nbsp;    └ label/                     -> 사전 작업 후에는 사용하지 않습니다. <br>\n",
    "&nbsp;&nbsp;&nbsp;&nbsp;&nbsp;&nbsp;&nbsp;&nbsp;&nbsp;&nbsp;&nbsp;&nbsp;&nbsp;&nbsp;&nbsp;&nbsp;&nbsp;        resize_CHNCXR_0001_0.png <br>\n",
    "&nbsp;&nbsp;&nbsp;&nbsp;&nbsp;&nbsp;&nbsp;&nbsp;&nbsp;&nbsp;&nbsp;&nbsp;&nbsp;&nbsp;&nbsp;&nbsp;&nbsp;        resize_CHNCXR_0002_0.png <br>\n",
    "&nbsp;&nbsp;&nbsp;&nbsp;&nbsp;&nbsp;&nbsp;&nbsp;&nbsp;&nbsp;&nbsp;&nbsp;&nbsp;&nbsp;&nbsp;&nbsp;&nbsp;        resize_CHNCXR_0003_0.png <br>\n",
    "&nbsp;&nbsp;&nbsp;&nbsp;&nbsp;&nbsp;&nbsp;&nbsp;&nbsp;&nbsp;&nbsp;&nbsp;&nbsp;&nbsp;&nbsp;&nbsp;&nbsp;        ...    \n",
    "&nbsp;&nbsp;    └ label_rl/ <br>\n",
    "&nbsp;&nbsp;&nbsp;&nbsp;&nbsp;&nbsp;&nbsp;&nbsp;&nbsp;&nbsp;&nbsp;&nbsp;&nbsp;&nbsp;&nbsp;&nbsp;&nbsp;&nbsp;               └ r/ <br>\n",
    "&nbsp;&nbsp;&nbsp;&nbsp;&nbsp;&nbsp;&nbsp;&nbsp;&nbsp;&nbsp;&nbsp;&nbsp;&nbsp;&nbsp;&nbsp;&nbsp;&nbsp;&nbsp;&nbsp;&nbsp;&nbsp;&nbsp;&nbsp;&nbsp;&nbsp;                    resize_CHNCXR_0001_0.png <br>\n",
    "&nbsp;&nbsp;&nbsp;&nbsp;&nbsp;&nbsp;&nbsp;&nbsp;&nbsp;&nbsp;&nbsp;&nbsp;&nbsp;&nbsp;&nbsp;&nbsp;&nbsp;&nbsp;&nbsp;&nbsp;&nbsp;&nbsp;&nbsp;&nbsp;&nbsp;                    resize_CHNCXR_0002_0.png <br>\n",
    "&nbsp;&nbsp;&nbsp;&nbsp;&nbsp;&nbsp;&nbsp;&nbsp;&nbsp;&nbsp;&nbsp;&nbsp;&nbsp;&nbsp;&nbsp;&nbsp;&nbsp;&nbsp;&nbsp;&nbsp;&nbsp;&nbsp;&nbsp;&nbsp;&nbsp;                    resize_CHNCXR_0003_0.png <br>\n",
    "&nbsp;&nbsp;&nbsp;&nbsp;&nbsp;&nbsp;&nbsp;&nbsp;&nbsp;&nbsp;&nbsp;&nbsp;&nbsp;&nbsp;&nbsp;&nbsp;&nbsp;&nbsp;&nbsp;&nbsp;&nbsp;&nbsp;&nbsp;&nbsp;&nbsp;                    ... <br>\n",
    "&nbsp;&nbsp;&nbsp;&nbsp;&nbsp;&nbsp;&nbsp;&nbsp;&nbsp;&nbsp;&nbsp;&nbsp;&nbsp;&nbsp;&nbsp;&nbsp;&nbsp;&nbsp;               └ l/ <br>\n",
    "&nbsp;&nbsp;&nbsp;&nbsp;&nbsp;&nbsp;&nbsp;&nbsp;&nbsp;&nbsp;&nbsp;&nbsp;&nbsp;&nbsp;&nbsp;&nbsp;&nbsp;&nbsp;&nbsp;&nbsp;&nbsp;&nbsp;&nbsp;&nbsp;&nbsp;                    resize_CHNCXR_0001_0.png <br>\n",
    "&nbsp;&nbsp;&nbsp;&nbsp;&nbsp;&nbsp;&nbsp;&nbsp;&nbsp;&nbsp;&nbsp;&nbsp;&nbsp;&nbsp;&nbsp;&nbsp;&nbsp;&nbsp;&nbsp;&nbsp;&nbsp;&nbsp;&nbsp;&nbsp;&nbsp;                    resize_CHNCXR_0002_0.png <br>\n",
    "&nbsp;&nbsp;&nbsp;&nbsp;&nbsp;&nbsp;&nbsp;&nbsp;&nbsp;&nbsp;&nbsp;&nbsp;&nbsp;&nbsp;&nbsp;&nbsp;&nbsp;&nbsp;&nbsp;&nbsp;&nbsp;&nbsp;&nbsp;&nbsp;&nbsp;                    resize_CHNCXR_0003_0.png <br>\n",
    "&nbsp;&nbsp;&nbsp;&nbsp;&nbsp;&nbsp;&nbsp;&nbsp;&nbsp;&nbsp;&nbsp;&nbsp;&nbsp;&nbsp;&nbsp;&nbsp;&nbsp;&nbsp;&nbsp;&nbsp;&nbsp;&nbsp;&nbsp;&nbsp;&nbsp;                    ..."
   ]
  },
  {
   "cell_type": "markdown",
   "id": "8e6454af-0da1-4586-84f9-0d4b3e508e2c",
   "metadata": {
    "tags": []
   },
   "source": [
    "## 사전 작업"
   ]
  },
  {
   "cell_type": "markdown",
   "id": "2c670677-bebb-42ee-89fa-cab07039984f",
   "metadata": {},
   "source": [
    "label 폴더의 마스킹 이미지를 각각 좌측 폐('label_rl/l/*'), 우측 폐'label_rl/r/*'로 분할하여 어노테이션 처리하였습니다.<br>\n",
    "추후 작업 시 라벨링을 배경: 0, 좌측 폐: 1, 우측 폐: 2로 하고 다시 one-hot encoding 작업으로 분할하여 진행한다."
   ]
  },
  {
   "cell_type": "markdown",
   "id": "1f19d2cd-9fd2-4619-a896-01b1829d5652",
   "metadata": {},
   "source": [
    "# 2. Library Import"
   ]
  },
  {
   "cell_type": "code",
   "execution_count": 1,
   "id": "934d9beb-41ae-49ad-93fb-cc77f6c1e66e",
   "metadata": {},
   "outputs": [],
   "source": [
    "import os\n",
    "import time\n",
    "import datetime\n",
    "import pickle\n",
    "import statistics\n",
    "from tqdm import tqdm\n",
    "import cv2\n",
    "import numpy as np\n",
    "import pandas as pd\n",
    "import matplotlib.pyplot as plt\n",
    "from PIL import Image\n",
    "from skimage.io import imread\n",
    "from skimage.transform import resize\n",
    "from sklearn.model_selection import train_test_split\n",
    "\n",
    "import tensorflow as tf\n",
    "from tensorflow.keras.layers import Add, Input, Dense, Conv2D, Flatten, MaxPool2D, UpSampling2D\n",
    "from tensorflow.keras.layers import Conv2DTranspose, Concatenate, BatchNormalization\n",
    "from tensorflow.keras.models import Model, load_model\n",
    "from tensorflow.keras.optimizers import SGD, Adam\n",
    "from tensorflow.keras.callbacks import EarlyStopping, ModelCheckpoint"
   ]
  },
  {
   "cell_type": "markdown",
   "id": "7ce51c14-f320-4b10-a1d7-390b84f52667",
   "metadata": {
    "tags": []
   },
   "source": [
    "# 3. Data Preprocessing"
   ]
  },
  {
   "cell_type": "markdown",
   "id": "23f95dab-42f6-4dc2-ab2b-8f78bdea6b2e",
   "metadata": {
    "tags": []
   },
   "source": [
    "### 3-3-1. Seed Fix"
   ]
  },
  {
   "cell_type": "code",
   "execution_count": 2,
   "id": "94c1dd8c-a9f0-4cb3-b86b-fcee7fd2f525",
   "metadata": {},
   "outputs": [],
   "source": [
    "# fix random seed for reproductibility\n",
    "seed = 777\n",
    "np.random.seed(seed)\n",
    "tf.random.set_seed(seed)"
   ]
  },
  {
   "cell_type": "markdown",
   "id": "03a41a2e-cf5c-42be-bdd3-972408f9f674",
   "metadata": {},
   "source": [
    "### 3-3-2. Hyper parameters"
   ]
  },
  {
   "cell_type": "code",
   "execution_count": 3,
   "id": "67cb9992-f114-4f26-8da2-a6033e7910ed",
   "metadata": {},
   "outputs": [],
   "source": [
    "# hyper parameter\n",
    "IMG_WIDTH = 256\n",
    "IMG_HEIGHT = 256\n",
    "IMG_CHANNELS = 3\n",
    "N_CLASSES = 2\n",
    "EPOCHS = 80\n",
    "BATCH_SIZE = 32"
   ]
  },
  {
   "cell_type": "code",
   "execution_count": 4,
   "id": "e051905e-26b1-4c70-950b-b3ba5dc193a7",
   "metadata": {},
   "outputs": [],
   "source": [
    "image_path = './data/image/.png' # (256, 256, 3)\n",
    "label_path = './data/label/.png' # (256, 256, 3)"
   ]
  },
  {
   "cell_type": "code",
   "execution_count": 5,
   "id": "3c9a6741-06da-48aa-a9a1-a7a7710e0d2b",
   "metadata": {},
   "outputs": [],
   "source": [
    "# # sample\n",
    "# image_cv2 = cv2.imread('./data/image/resize_CHNCXR_0001_0.png')\n",
    "# label_cv2 = cv2.imread('./data/label/resize_CHNCXR_0001_0.png')\n",
    "# print(image_cv2.shape) # (256, 256, 3)\n",
    "# print(label_cv2.shape) # (256, 256, 3)\n",
    "\n",
    "# cv2.imshow('image_cv2', image_cv2)\n",
    "# cv2.imshow('label_cv2', label_cv2)\n",
    "\n",
    "# cv2.waitKey(0)\n",
    "# cv2.destroyAllWindows()"
   ]
  },
  {
   "cell_type": "code",
   "execution_count": 6,
   "id": "fe0fb8bf-15d3-4ff7-9fd6-e45edbcc068b",
   "metadata": {},
   "outputs": [
    {
     "name": "stdout",
     "output_type": "stream",
     "text": [
      "(256, 256)\n"
     ]
    }
   ],
   "source": [
    "# label_gray = cv2.imread('./data/label/resize_CHNCXR_0001_0.png', cv2.IMREAD_GRAYSCALE)\n",
    "label_gray = cv2.imread('./data/label/resize_CHNCXR_0075_0.png', cv2.IMREAD_GRAYSCALE)\n",
    "print(label_gray.shape) # (256, 256)\n",
    "\n",
    "# cv2.imshow('label_gray', label_gray)\n",
    "# cv2.waitKey(0)\n",
    "# cv2.destroyAllWindows()"
   ]
  },
  {
   "cell_type": "markdown",
   "id": "d07314b1-017f-44a1-94d2-bae0df9128b6",
   "metadata": {},
   "source": [
    "- (256, 256) 이미지에서 가로 스캔이 먼저 되는 것(배경 제외)이 100의 픽셀 값을 가진다. "
   ]
  },
  {
   "cell_type": "code",
   "execution_count": 7,
   "id": "53e17e1b-2de4-4df2-8bd1-c1001ec7048f",
   "metadata": {},
   "outputs": [
    {
     "name": "stdout",
     "output_type": "stream",
     "text": [
      "(array([  0, 100, 200], dtype=uint8), array([55498,  4870,  5168], dtype=int64))\n",
      "(256, 256)\n"
     ]
    }
   ],
   "source": [
    "np.random.seed(777)\n",
    "\n",
    "cnt, labels = cv2.connectedComponents(label_gray)\n",
    "# print(cnt) # 3\n",
    "# print(labels.shape) # (256, 256)\n",
    "\n",
    "ambiguous_count = 0\n",
    "mass_a = np.zeros_like(label_gray)\n",
    "mass_b = np.zeros_like(label_gray)\n",
    "\n",
    "for i in range(cnt):\n",
    "    # mass[labels==i] = [int(j) for j in np.random.randint(0, 255, 1)] # list 값 1개\n",
    "    if i == 0:\n",
    "        mass_a[labels==i] = [0] # list 값 1개\n",
    "        mass_b[labels==i] = [0] # list 값 1개\n",
    "    elif i == 1:\n",
    "        mass_a[labels==i] = [100] # list 값 1개\n",
    "        mass_b[labels==i] = [100] # list 값 1개\n",
    "    elif i == 2:\n",
    "        mass_a[labels==i] = [200] # list 값 1개\n",
    "        mass_b[labels==i] = [200] # list 값 1개\n",
    "    else:\n",
    "        mass_a[labels==i] = [0]\n",
    "        mass_b[labels==i] = [0]\n",
    "        print(f\"ambiguous pixel count: {ambiguous_count}\")\n",
    "        ambiguous_count += 1\n",
    "                       \n",
    "print(np.unique(mass_a, return_counts=True))\n",
    "print(mass_a.shape)\n",
    "# (array([ 47,  59, 103], dtype=uint8), array([ 8209,  7871, 49456], dtype=int64))\n",
    "# (256, 256)\n",
    "\n",
    "# opencv 시각화\n",
    "# cv2.imshow('label_gray', label_gray)\n",
    "# cv2.imshow('mass_a', mass_a)\n",
    "# cv2.waitKey(0)\n",
    "# cv2.destroyAllWindows()"
   ]
  },
  {
   "cell_type": "markdown",
   "id": "45296bf6-36a0-4ffd-961a-e050c7d92bdb",
   "metadata": {},
   "source": [
    "# 테스팅"
   ]
  },
  {
   "cell_type": "code",
   "execution_count": null,
   "id": "73c8d9e4-6296-45ab-91bf-e11d2398b8ea",
   "metadata": {},
   "outputs": [],
   "source": []
  },
  {
   "cell_type": "code",
   "execution_count": null,
   "id": "469e1e3c-c321-48a7-beda-bf304a0dd958",
   "metadata": {},
   "outputs": [],
   "source": [
    "import os\n",
    "\n",
    "path = \"./\"\n",
    "file_list = os.listdir(path)\n",
    "\n",
    "print (\"file_list: {}\".format(file_list))\n",
    "\n",
    "\n",
    "label_gray = cv2.imread('./data/label/resize_CHNCXR_0075_0.png', cv2.IMREAD_GRAYSCALE)\n",
    "print(label_gray.shape) # (256, 256)"
   ]
  },
  {
   "cell_type": "code",
   "execution_count": 64,
   "id": "d55180bc-d03a-49b7-9f0c-89d990b95f9d",
   "metadata": {},
   "outputs": [
    {
     "name": "stdout",
     "output_type": "stream",
     "text": [
      "['resize_CHNCXR_0004_0.png', 'resize_CHNCXR_0061_0.png', 'resize_CHNCXR_0066_0.png', 'resize_CHNCXR_0136_0.png', 'resize_CHNCXR_0145_0.png', 'resize_CHNCXR_0151_0.png', 'resize_CHNCXR_0153_0.png', 'resize_CHNCXR_0157_0.png', 'resize_CHNCXR_0180_0.png', 'resize_CHNCXR_0225_0.png', 'resize_CHNCXR_0261_0.png', 'resize_CHNCXR_0279_0.png', 'resize_CHNCXR_0307_0.png', 'resize_CHNCXR_0316_0.png', 'resize_CHNCXR_0326_0.png', 'resize_CHNCXR_0331_1.png', 'resize_CHNCXR_0337_1.png', 'resize_CHNCXR_0361_1.png', 'resize_CHNCXR_0369_1.png', 'resize_CHNCXR_0411_1.png', 'resize_CHNCXR_0421_1.png', 'resize_CHNCXR_0425_1.png', 'resize_CHNCXR_0473_1.png', 'resize_CHNCXR_0501_1.png', 'resize_CHNCXR_0509_1.png', 'resize_CHNCXR_0518_1.png', 'resize_CHNCXR_0532_1.png', 'resize_CHNCXR_0547_1.png', 'resize_CHNCXR_0652_1.png']\n",
      "[4, 4, 4, 4, 4, 4, 4, 5, 4, 4, 4, 4, 4, 4, 4, 4, 4, 7, 4, 5, 4, 4, 4, 4, 6, 5, 4, 4, 4]\n"
     ]
    }
   ],
   "source": [
    "np.random.seed(777)\n",
    "\n",
    "label_path = './data/label/'\n",
    "label_file_list = os.listdir(label_path)\n",
    "\n",
    "cnt_not_3_idx = []\n",
    "cnt_not_3 = []\n",
    "# for l_file in label_file_list:\n",
    "for i, l_file in enumerate(label_file_list):\n",
    "    # print(l_file)\n",
    "    \n",
    "    label = cv2.imread(label_path + l_file, cv2.IMREAD_GRAYSCALE)\n",
    "    # print(label.shape) # (256, 256)\n",
    "    \n",
    "    cnt, labels = cv2.connectedComponents(label)\n",
    "    if cnt != 3:\n",
    "        cnt_not_3_idx.append(l_file)\n",
    "        cnt_not_3.append(cnt)\n",
    "        \n",
    "print(cnt_not_3_idx)\n",
    "print(cnt_not_3)"
   ]
  },
  {
   "cell_type": "code",
   "execution_count": 54,
   "id": "3e6b4153-ef1e-4ebf-8730-888b766c637c",
   "metadata": {},
   "outputs": [
    {
     "data": {
      "text/plain": [
       "['resize_CHNCXR_0001_0.png',\n",
       " 'resize_CHNCXR_0002_0.png',\n",
       " 'resize_CHNCXR_0003_0.png']"
      ]
     },
     "execution_count": 54,
     "metadata": {},
     "output_type": "execute_result"
    }
   ],
   "source": [
    "label_file_list[:3]"
   ]
  },
  {
   "cell_type": "code",
   "execution_count": 70,
   "id": "1091957c-2670-40bf-a04d-a5a765c6ba6a",
   "metadata": {
    "scrolled": true,
    "tags": []
   },
   "outputs": [
    {
     "name": "stdout",
     "output_type": "stream",
     "text": [
      "resize_CHNCXR_0004_0.png\n",
      "4\n",
      "(array([ 47,  59, 103, 166], dtype=uint8), array([ 6938,  7692, 50905,     1], dtype=int64))\n",
      "(256, 256)\n",
      "resize_CHNCXR_0061_0.png\n",
      "4\n",
      "(array([ 71,  87, 157, 177], dtype=uint8), array([ 8521, 46550,     5, 10460], dtype=int64))\n",
      "(256, 256)\n",
      "resize_CHNCXR_0066_0.png\n",
      "4\n",
      "(array([116, 127, 167, 217], dtype=uint8), array([ 5825, 56207,  3503,     1], dtype=int64))\n",
      "(256, 256)\n",
      "resize_CHNCXR_0136_0.png\n",
      "4\n",
      "(array([ 24,  39,  46, 250], dtype=uint8), array([ 4528,     1, 56073,  4934], dtype=int64))\n",
      "(256, 256)\n",
      "resize_CHNCXR_0145_0.png\n",
      "4\n",
      "(array([ 32, 141, 142, 146], dtype=uint8), array([    1,  9221,  7039, 49275], dtype=int64))\n",
      "(256, 256)\n",
      "resize_CHNCXR_0151_0.png\n",
      "4\n",
      "(array([65, 82, 84, 91], dtype=uint8), array([ 5437,  5749,     1, 54349], dtype=int64))\n",
      "(256, 256)\n",
      "resize_CHNCXR_0153_0.png\n",
      "4\n",
      "(array([ 7, 31, 65, 69], dtype=uint8), array([ 7443,     1,  5997, 52095], dtype=int64))\n",
      "(256, 256)\n",
      "resize_CHNCXR_0157_0.png\n",
      "5\n",
      "(array([ 50,  74,  82, 103, 187], dtype=uint8), array([    1,  5935,     1,  6680, 52919], dtype=int64))\n",
      "(256, 256)\n",
      "resize_CHNCXR_0180_0.png\n",
      "4\n",
      "(array([ 62,  68, 109, 199], dtype=uint8), array([53745,     1,  6919,  4871], dtype=int64))\n",
      "(256, 256)\n",
      "resize_CHNCXR_0225_0.png\n",
      "4\n",
      "(array([ 56,  66,  70, 202], dtype=uint8), array([49338,  6745,  9451,     2], dtype=int64))\n",
      "(256, 256)\n",
      "resize_CHNCXR_0261_0.png\n",
      "4\n",
      "(array([ 15,  60, 120, 199], dtype=uint8), array([ 6471, 51166,     1,  7898], dtype=int64))\n",
      "(256, 256)\n",
      "resize_CHNCXR_0279_0.png\n",
      "4\n",
      "(array([ 51, 104, 128, 186], dtype=uint8), array([11340,  9655, 44540,     1], dtype=int64))\n",
      "(256, 256)\n",
      "resize_CHNCXR_0307_0.png\n",
      "4\n",
      "(array([ 16,  99, 130, 237], dtype=uint8), array([ 6659,  5126, 53750,     1], dtype=int64))\n",
      "(256, 256)\n",
      "resize_CHNCXR_0316_0.png\n",
      "4\n",
      "(array([ 36, 115, 128, 171], dtype=uint8), array([ 7525, 48214,     1,  9796], dtype=int64))\n",
      "(256, 256)\n",
      "resize_CHNCXR_0326_0.png\n",
      "4\n",
      "(array([ 38,  53,  78, 190], dtype=uint8), array([ 7160,  7592,     1, 50783], dtype=int64))\n",
      "(256, 256)\n",
      "resize_CHNCXR_0331_1.png\n",
      "4\n",
      "(array([ 28,  92, 245, 247], dtype=uint8), array([39886,     4, 11329, 14317], dtype=int64))\n",
      "(256, 256)\n",
      "resize_CHNCXR_0337_1.png\n",
      "4\n",
      "(array([221, 225, 229, 248], dtype=uint8), array([13327,     1, 39217, 12991], dtype=int64))\n",
      "(256, 256)\n",
      "resize_CHNCXR_0361_1.png\n",
      "7\n",
      "(array([  4,  20,  74, 122, 138, 151, 228], dtype=uint8), array([  834, 52489,     1,     1,  2675,  9534,     2], dtype=int64))\n",
      "(256, 256)\n",
      "resize_CHNCXR_0369_1.png\n",
      "4\n",
      "(array([ 80, 100, 105, 117], dtype=uint8), array([50793,  6724,  8018,     1], dtype=int64))\n",
      "(256, 256)\n",
      "resize_CHNCXR_0411_1.png\n",
      "5\n",
      "(array([  0,  16,  85, 143, 216], dtype=uint8), array([    1, 51278,  6555,     1,  7701], dtype=int64))\n",
      "(256, 256)\n",
      "resize_CHNCXR_0421_1.png\n",
      "4\n",
      "(array([ 53, 183, 190, 217], dtype=uint8), array([11771,  9984, 43772,     9], dtype=int64))\n",
      "(256, 256)\n",
      "resize_CHNCXR_0425_1.png\n",
      "4\n",
      "(array([ 46, 116, 182, 189], dtype=uint8), array([ 8912,     1, 48343,  8280], dtype=int64))\n",
      "(256, 256)\n",
      "resize_CHNCXR_0473_1.png\n",
      "4\n",
      "(array([  8,   9,  17, 119], dtype=uint8), array([ 8949,     1,  7861, 48725], dtype=int64))\n",
      "(256, 256)\n",
      "resize_CHNCXR_0501_1.png\n",
      "4\n",
      "(array([ 16,  85, 108, 190], dtype=uint8), array([    2, 10900, 44220, 10414], dtype=int64))\n",
      "(256, 256)\n",
      "resize_CHNCXR_0509_1.png\n",
      "6\n",
      "(array([ 34,  95, 182, 195, 235], dtype=uint8), array([11660, 42118, 11756,     1,     1], dtype=int64))\n",
      "(256, 256)\n",
      "resize_CHNCXR_0518_1.png\n",
      "5\n",
      "(array([ 23,  37,  58, 125, 216], dtype=uint8), array([    1, 12252, 11120, 42162,     1], dtype=int64))\n",
      "(256, 256)\n",
      "resize_CHNCXR_0532_1.png\n",
      "4\n",
      "(array([ 44,  91, 109, 142], dtype=uint8), array([46637,  9981,  8916,     2], dtype=int64))\n",
      "(256, 256)\n",
      "resize_CHNCXR_0547_1.png\n",
      "4\n",
      "(array([ 23,  62, 132, 215], dtype=uint8), array([ 8722, 10437, 46376,     1], dtype=int64))\n",
      "(256, 256)\n",
      "resize_CHNCXR_0652_1.png\n",
      "4\n",
      "(array([ 30,  41, 131, 199], dtype=uint8), array([ 7453, 52218,  5864,     1], dtype=int64))\n",
      "(256, 256)\n"
     ]
    }
   ],
   "source": [
    "# cnt가 3이 아닌 케이스들을 확인한다\n",
    "np.random.seed(777)\n",
    "\n",
    "\n",
    "for idx in cnt_not_3_idx:\n",
    "    print(idx)\n",
    "    label = cv2.imread(label_path + idx, cv2.IMREAD_GRAYSCALE)\n",
    "    # print(label.shape)\n",
    "    \n",
    "    cnt, labels = cv2.connectedComponents(label)\n",
    "    print(cnt)\n",
    "    mass = np.zeros_like(label)\n",
    "    \n",
    "    for i in range(cnt):\n",
    "        mass[labels==i] = [int(j) for j in np.random.randint(0, 255, 1)] # list 값 1개\n",
    "        \n",
    "    print(np.unique(mass, return_counts=True))\n",
    "    print(mass.shape)\n",
    "\n",
    "    # opencv 시각화\n",
    "    # cv2.imshow('label', label)\n",
    "    # cv2.imshow('mass', mass)\n",
    "    # cv2.waitKey(0)\n",
    "    # cv2.destroyAllWindows()"
   ]
  },
  {
   "cell_type": "code",
   "execution_count": 63,
   "id": "bbd05529-ef22-42b7-a87b-9b3484e1a9c4",
   "metadata": {},
   "outputs": [
    {
     "name": "stdout",
     "output_type": "stream",
     "text": [
      "(256, 256)\n",
      "4\n",
      "(array([ 47,  59, 103, 166], dtype=uint8), array([ 6938,  7692, 50905,     1], dtype=int64))\n",
      "(256, 256)\n"
     ]
    }
   ],
   "source": [
    "np.random.seed(777)\n",
    "\n",
    "label = cv2.imread(f'./data/label/resize_CHNCXR_0004_0.png', cv2.IMREAD_GRAYSCALE)\n",
    "print(label.shape)\n",
    "\n",
    "\n",
    "cnt, labels = cv2.connectedComponents(label)\n",
    "print(cnt) # 3\n",
    "# print(labels.shape) # (256, 256)\n",
    "\n",
    "# ambiguous_count = 0\n",
    "# mass_a = np.zeros_like(label_gray)\n",
    "# mass_b = np.zeros_like(label_gray)\n",
    "mass = np.zeros_like(label)\n",
    "\n",
    "for i in range(cnt):\n",
    "    mass[labels==i] = [int(j) for j in np.random.randint(0, 255, 1)] # list 값 1개\n",
    "    \n",
    "print(np.unique(mass, return_counts=True))\n",
    "print(mass.shape)\n",
    "\n",
    "# opencv 시각화\n",
    "cv2.imshow('label', label)\n",
    "cv2.imshow('mass', mass)\n",
    "cv2.waitKey(0)\n",
    "cv2.destroyAllWindows()"
   ]
  },
  {
   "cell_type": "markdown",
   "id": "5ed63239-28f9-41b8-8fe2-2872a5eb94a2",
   "metadata": {},
   "source": [
    "# 테스팅 끝"
   ]
  },
  {
   "cell_type": "code",
   "execution_count": 8,
   "id": "2f33a7b0-cc6f-41a2-9dd5-95a83b96b85c",
   "metadata": {},
   "outputs": [
    {
     "name": "stdout",
     "output_type": "stream",
     "text": [
      "[100 200]\n",
      "[100 200]\n",
      "[4870 5168]\n",
      "[4870 5168]\n"
     ]
    }
   ],
   "source": [
    "mass_a_info = np.unique(mass_a, return_counts=True)\n",
    "mass_b_info = np.unique(mass_b, return_counts=True)\n",
    "\n",
    "a_index = np.delete(mass_a_info[0], np.argmax(mass_a_info[1]))\n",
    "print(a_index)\n",
    "b_index = np.delete(mass_b_info[0], np.argmax(mass_b_info[1]))\n",
    "print(a_index)\n",
    "\n",
    "a_pixel_volume = np.delete(mass_a_info[1], np.argmax(mass_a_info[1]))\n",
    "print(a_pixel_volume)\n",
    "b_pixel_volume = np.delete(mass_b_info[1], np.argmax(mass_b_info[1]))\n",
    "print(b_pixel_volume)\n",
    "\n",
    "mass_a[mass_a==a_index[np.argmax(a_pixel_volume)]] = 1\n",
    "mass_a[mass_a!=1] = 0\n",
    "\n",
    "mass_b[mass_b==b_index[np.argmin(b_pixel_volume)]] = 1\n",
    "mass_b[mass_b!=1] = 0"
   ]
  },
  {
   "cell_type": "code",
   "execution_count": 9,
   "id": "fbd48f0e-989d-4f5a-b317-4b6fcb03cc96",
   "metadata": {},
   "outputs": [
    {
     "name": "stdout",
     "output_type": "stream",
     "text": [
      "(256, 256)\n",
      "(256, 256)\n",
      "(array([0, 1], dtype=uint8), array([60368,  5168], dtype=int64))\n",
      "(array([0, 1], dtype=uint8), array([60666,  4870], dtype=int64))\n"
     ]
    }
   ],
   "source": [
    "print(mass_a.shape)\n",
    "print(mass_b.shape)\n",
    "\n",
    "# mass_a_count = mass_a.flatten()\n",
    "# mass_b_count = mass_b.flatten()\n",
    "# print(mass_a_count.shape, mass_a_count)\n",
    "# print(mass_b_count.shape, mass_b_count)\n",
    "print(np.unique(mass_a, return_counts=True))\n",
    "print(np.unique(mass_b, return_counts=True))"
   ]
  },
  {
   "cell_type": "markdown",
   "id": "292dbbf1-2d99-4fe1-93a8-2489316cff81",
   "metadata": {},
   "source": [
    "- 좌우 구분 어떻게 하지?"
   ]
  },
  {
   "cell_type": "code",
   "execution_count": 10,
   "id": "361f8cc0-8849-4951-aa71-46e8b6a5ada1",
   "metadata": {},
   "outputs": [
    {
     "name": "stdout",
     "output_type": "stream",
     "text": [
      "(256, 128)\n",
      "[[0 0 0 ... 0 0 0]\n",
      " [0 0 0 ... 0 0 0]\n",
      " [0 0 0 ... 0 0 0]\n",
      " ...\n",
      " [0 0 0 ... 0 0 0]\n",
      " [0 0 0 ... 0 0 0]\n",
      " [0 0 0 ... 0 0 0]]\n",
      "(256, 128)\n",
      "[[0 0 0 ... 0 0 0]\n",
      " [0 0 0 ... 0 0 0]\n",
      " [0 0 0 ... 0 0 0]\n",
      " ...\n",
      " [0 0 0 ... 0 0 0]\n",
      " [0 0 0 ... 0 0 0]\n",
      " [0 0 0 ... 0 0 0]]\n",
      "(array([0, 1], dtype=uint8), array([27600,  5168], dtype=int64))\n",
      "(array([0], dtype=uint8), array([32768], dtype=int64))\n"
     ]
    }
   ],
   "source": [
    "half_width = int(IMG_WIDTH/2)\n",
    "\n",
    "print(mass_a[:, :half_width].shape)\n",
    "print(mass_a[:, :half_width])\n",
    "print(mass_a[:, half_width:].shape)\n",
    "print(mass_a[:, half_width:])\n",
    "\n",
    "print(np.unique(mass_a[:, half_width:], return_counts=True))\n",
    "print(np.unique(mass_a[:, :half_width], return_counts=True))"
   ]
  },
  {
   "cell_type": "code",
   "execution_count": 11,
   "id": "1e45a92b-8b5a-4db6-ad5e-027a17ebc97a",
   "metadata": {},
   "outputs": [
    {
     "name": "stdout",
     "output_type": "stream",
     "text": [
      "(array([0, 1], dtype=uint8), array([27600,  5168], dtype=int64))\n",
      "(array([0], dtype=uint8), array([32768], dtype=int64))\n",
      "[0 1]\n",
      "<class 'numpy.ndarray'>\n",
      "[0, 1]\n",
      "우폐 없음\n",
      "[[0 0 0 ... 0 0 0]\n",
      " [0 0 0 ... 0 0 0]\n",
      " [0 0 0 ... 0 0 0]\n",
      " ...\n",
      " [0 0 0 ... 0 0 0]\n",
      " [0 0 0 ... 0 0 0]\n",
      " [0 0 0 ... 0 0 0]]\n",
      "(256, 256)\n"
     ]
    }
   ],
   "source": [
    "# 이미지 상으로는 좌측에 있는 것이 ~right~, 우측에 있는 것이 ~left~ 변수 형태로 선언한다.\n",
    "mass_a_left_info = np.unique(mass_a[:, half_width:], return_counts=True)\n",
    "mass_a_right_info = np.unique(mass_a[:, :half_width], return_counts=True)\n",
    "print(mass_a_left_info)\n",
    "print(mass_a_right_info)\n",
    "# print(np.argmax(mass_a_left_info[1]))\n",
    "\n",
    "print(mass_a_left_info[0])\n",
    "print(type(mass_a_left_info[0]))\n",
    "\n",
    "print(list(mass_a_left_info[0]))\n",
    "\n",
    "\n",
    "if 1 not in mass_a_left_info[0]:\n",
    "    print(\"좌폐 없음\")\n",
    "\n",
    "elif 1 not in mass_a_right_info[0]:\n",
    "    print(\"우폐 없음\")\n",
    "    mask_l = mass_a\n",
    "    \n",
    "# else:\n",
    "#     mask_a_left_info[# 픽셀 개수 비교\n",
    "\n",
    "\n",
    "print(mask_l)\n",
    "print(mask_l.shape)"
   ]
  },
  {
   "cell_type": "code",
   "execution_count": 12,
   "id": "be39a20f-a2ad-4ae1-9dd1-4b0a1cf055a6",
   "metadata": {},
   "outputs": [
    {
     "name": "stdout",
     "output_type": "stream",
     "text": [
      "(256, 128)\n",
      "[[0 0 0 ... 0 0 0]\n",
      " [0 0 0 ... 0 0 0]\n",
      " [0 0 0 ... 0 0 0]\n",
      " ...\n",
      " [0 0 0 ... 0 0 0]\n",
      " [0 0 0 ... 0 0 0]\n",
      " [0 0 0 ... 0 0 0]]\n",
      "(256, 128)\n",
      "[[0 0 0 ... 0 0 0]\n",
      " [0 0 0 ... 0 0 0]\n",
      " [0 0 0 ... 0 0 0]\n",
      " ...\n",
      " [0 0 0 ... 0 0 0]\n",
      " [0 0 0 ... 0 0 0]\n",
      " [0 0 0 ... 0 0 0]]\n",
      "(array([0, 1], dtype=uint8), array([27898,  4870], dtype=int64))\n",
      "(array([0], dtype=uint8), array([32768], dtype=int64))\n"
     ]
    }
   ],
   "source": [
    "print(mass_b[:, :half_width].shape)\n",
    "print(mass_b[:, :half_width])\n",
    "print(mass_b[:, half_width:].shape)\n",
    "print(mass_b[:, half_width:])\n",
    "\n",
    "print(np.unique(mass_b[:, :half_width], return_counts=True))\n",
    "print(np.unique(mass_b[:, half_width:], return_counts=True))"
   ]
  }
 ],
 "metadata": {
  "kernelspec": {
   "display_name": "tf240",
   "language": "python",
   "name": "tf240"
  },
  "language_info": {
   "codemirror_mode": {
    "name": "ipython",
    "version": 3
   },
   "file_extension": ".py",
   "mimetype": "text/x-python",
   "name": "python",
   "nbconvert_exporter": "python",
   "pygments_lexer": "ipython3",
   "version": "3.8.12"
  },
  "toc-autonumbering": false
 },
 "nbformat": 4,
 "nbformat_minor": 5
}
