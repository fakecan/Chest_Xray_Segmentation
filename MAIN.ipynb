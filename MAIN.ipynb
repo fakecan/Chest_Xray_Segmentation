{
 "cells": [
  {
   "cell_type": "markdown",
   "id": "1fc188a6-5ab8-4ba2-b042-774e480b1439",
   "metadata": {
    "tags": []
   },
   "source": [
    "# 1. Starting point"
   ]
  },
  {
   "cell_type": "markdown",
   "id": "7b92781d-d10b-4ecc-af0c-3240fa5cf773",
   "metadata": {},
   "source": [
    "Input: (256, 256, 3) Chest X-ray image 566개\n",
    "<br>\n",
    "Label: 좌우 lung 마스킹되어 있는 흑백 이미지 566개\n",
    "<br><br>\n",
    "이미지 기준 좌측 폐: Right lung\n",
    "이미지 기준 우측 폐: Left lung\n",
    "<br>\n",
    "※ Task<br>\n",
    "&nbsp;&nbsp;&nbsp;    - Left lung, Right lung 분할(2 classes + 1 class(background)) <br>\n",
    "&nbsp;&nbsp;&nbsp;    - 훈련 & 추론 + 후처리(보간법) 노이즈 제거(예측 성능 ↑)"
   ]
  },
  {
   "cell_type": "markdown",
   "id": "f6fabd0b-70f9-413f-829b-39cae4f9a749",
   "metadata": {
    "tags": []
   },
   "source": [
    "## 데이터 구조"
   ]
  },
  {
   "cell_type": "markdown",
   "id": "4351c35e-e4f0-4e42-9a7c-34a62f85e542",
   "metadata": {},
   "source": [
    "data <br>\n",
    "&nbsp;&nbsp;    └ image/ <br>\n",
    "&nbsp;&nbsp;&nbsp;&nbsp;&nbsp;&nbsp;&nbsp;&nbsp;&nbsp;&nbsp;&nbsp;&nbsp;&nbsp;&nbsp;&nbsp;&nbsp;&nbsp;        resize_CHNCXR_0001_0.png <br>\n",
    "&nbsp;&nbsp;&nbsp;&nbsp;&nbsp;&nbsp;&nbsp;&nbsp;&nbsp;&nbsp;&nbsp;&nbsp;&nbsp;&nbsp;&nbsp;&nbsp;&nbsp;        resize_CHNCXR_0002_0.png <br>\n",
    "&nbsp;&nbsp;&nbsp;&nbsp;&nbsp;&nbsp;&nbsp;&nbsp;&nbsp;&nbsp;&nbsp;&nbsp;&nbsp;&nbsp;&nbsp;&nbsp;&nbsp;        resize_CHNCXR_0003_0.png <br>\n",
    "&nbsp;&nbsp;&nbsp;&nbsp;&nbsp;&nbsp;&nbsp;&nbsp;&nbsp;&nbsp;&nbsp;&nbsp;&nbsp;&nbsp;&nbsp;&nbsp;&nbsp;        ... <br>\n",
    "&nbsp;&nbsp;    └ label/                     -> 사전 작업 후에는 사용하지 않습니다. <br>\n",
    "&nbsp;&nbsp;&nbsp;&nbsp;&nbsp;&nbsp;&nbsp;&nbsp;&nbsp;&nbsp;&nbsp;&nbsp;&nbsp;&nbsp;&nbsp;&nbsp;&nbsp;        resize_CHNCXR_0001_0.png <br>\n",
    "&nbsp;&nbsp;&nbsp;&nbsp;&nbsp;&nbsp;&nbsp;&nbsp;&nbsp;&nbsp;&nbsp;&nbsp;&nbsp;&nbsp;&nbsp;&nbsp;&nbsp;        resize_CHNCXR_0002_0.png <br>\n",
    "&nbsp;&nbsp;&nbsp;&nbsp;&nbsp;&nbsp;&nbsp;&nbsp;&nbsp;&nbsp;&nbsp;&nbsp;&nbsp;&nbsp;&nbsp;&nbsp;&nbsp;        resize_CHNCXR_0003_0.png <br>\n",
    "&nbsp;&nbsp;&nbsp;&nbsp;&nbsp;&nbsp;&nbsp;&nbsp;&nbsp;&nbsp;&nbsp;&nbsp;&nbsp;&nbsp;&nbsp;&nbsp;&nbsp;        ...    \n",
    "&nbsp;&nbsp;    └ label_rl/ <br>\n",
    "&nbsp;&nbsp;&nbsp;&nbsp;&nbsp;&nbsp;&nbsp;&nbsp;&nbsp;&nbsp;&nbsp;&nbsp;&nbsp;&nbsp;&nbsp;&nbsp;&nbsp;&nbsp;               └ r/ <br>\n",
    "&nbsp;&nbsp;&nbsp;&nbsp;&nbsp;&nbsp;&nbsp;&nbsp;&nbsp;&nbsp;&nbsp;&nbsp;&nbsp;&nbsp;&nbsp;&nbsp;&nbsp;&nbsp;&nbsp;&nbsp;&nbsp;&nbsp;&nbsp;&nbsp;&nbsp;                    resize_CHNCXR_0001_0.png <br>\n",
    "&nbsp;&nbsp;&nbsp;&nbsp;&nbsp;&nbsp;&nbsp;&nbsp;&nbsp;&nbsp;&nbsp;&nbsp;&nbsp;&nbsp;&nbsp;&nbsp;&nbsp;&nbsp;&nbsp;&nbsp;&nbsp;&nbsp;&nbsp;&nbsp;&nbsp;                    resize_CHNCXR_0002_0.png <br>\n",
    "&nbsp;&nbsp;&nbsp;&nbsp;&nbsp;&nbsp;&nbsp;&nbsp;&nbsp;&nbsp;&nbsp;&nbsp;&nbsp;&nbsp;&nbsp;&nbsp;&nbsp;&nbsp;&nbsp;&nbsp;&nbsp;&nbsp;&nbsp;&nbsp;&nbsp;                    resize_CHNCXR_0003_0.png <br>\n",
    "&nbsp;&nbsp;&nbsp;&nbsp;&nbsp;&nbsp;&nbsp;&nbsp;&nbsp;&nbsp;&nbsp;&nbsp;&nbsp;&nbsp;&nbsp;&nbsp;&nbsp;&nbsp;&nbsp;&nbsp;&nbsp;&nbsp;&nbsp;&nbsp;&nbsp;                    ... <br>\n",
    "&nbsp;&nbsp;&nbsp;&nbsp;&nbsp;&nbsp;&nbsp;&nbsp;&nbsp;&nbsp;&nbsp;&nbsp;&nbsp;&nbsp;&nbsp;&nbsp;&nbsp;&nbsp;               └ l/ <br>\n",
    "&nbsp;&nbsp;&nbsp;&nbsp;&nbsp;&nbsp;&nbsp;&nbsp;&nbsp;&nbsp;&nbsp;&nbsp;&nbsp;&nbsp;&nbsp;&nbsp;&nbsp;&nbsp;&nbsp;&nbsp;&nbsp;&nbsp;&nbsp;&nbsp;&nbsp;                    resize_CHNCXR_0001_0.png <br>\n",
    "&nbsp;&nbsp;&nbsp;&nbsp;&nbsp;&nbsp;&nbsp;&nbsp;&nbsp;&nbsp;&nbsp;&nbsp;&nbsp;&nbsp;&nbsp;&nbsp;&nbsp;&nbsp;&nbsp;&nbsp;&nbsp;&nbsp;&nbsp;&nbsp;&nbsp;                    resize_CHNCXR_0002_0.png <br>\n",
    "&nbsp;&nbsp;&nbsp;&nbsp;&nbsp;&nbsp;&nbsp;&nbsp;&nbsp;&nbsp;&nbsp;&nbsp;&nbsp;&nbsp;&nbsp;&nbsp;&nbsp;&nbsp;&nbsp;&nbsp;&nbsp;&nbsp;&nbsp;&nbsp;&nbsp;                    resize_CHNCXR_0003_0.png <br>\n",
    "&nbsp;&nbsp;&nbsp;&nbsp;&nbsp;&nbsp;&nbsp;&nbsp;&nbsp;&nbsp;&nbsp;&nbsp;&nbsp;&nbsp;&nbsp;&nbsp;&nbsp;&nbsp;&nbsp;&nbsp;&nbsp;&nbsp;&nbsp;&nbsp;&nbsp;                    ..."
   ]
  },
  {
   "cell_type": "markdown",
   "id": "8e6454af-0da1-4586-84f9-0d4b3e508e2c",
   "metadata": {
    "tags": []
   },
   "source": [
    "## 사전 작업"
   ]
  },
  {
   "cell_type": "markdown",
   "id": "2c670677-bebb-42ee-89fa-cab07039984f",
   "metadata": {},
   "source": [
    "label 폴더의 마스킹 이미지를 각각 좌측 폐('label_rl/l/*'), 우측 폐'label_rl/r/*'로 분할하여 어노테이션 처리하였습니다.<br>\n",
    "추후 작업 시 라벨링을 배경: 0, 좌측 폐: 1, 우측 폐: 2로 하고 다시 one-hot encoding 작업으로 분할하여 진행한다."
   ]
  },
  {
   "cell_type": "markdown",
   "id": "1f19d2cd-9fd2-4619-a896-01b1829d5652",
   "metadata": {},
   "source": [
    "# 2. Library Import"
   ]
  },
  {
   "cell_type": "code",
   "execution_count": 2,
   "id": "934d9beb-41ae-49ad-93fb-cc77f6c1e66e",
   "metadata": {},
   "outputs": [],
   "source": [
    "import os\n",
    "import time\n",
    "import datetime\n",
    "import pickle\n",
    "import statistics\n",
    "from tqdm import tqdm\n",
    "import cv2\n",
    "import numpy as np\n",
    "import pandas as pd\n",
    "import matplotlib.pyplot as plt\n",
    "from PIL import Image\n",
    "from skimage.io import imread\n",
    "from skimage.transform import resize\n",
    "from sklearn.model_selection import train_test_split\n",
    "\n",
    "import tensorflow as tf\n",
    "from tensorflow.keras.layers import Add, Input, Dense, Conv2D, Flatten, MaxPool2D, UpSampling2D\n",
    "from tensorflow.keras.layers import Conv2DTranspose, Concatenate, BatchNormalization\n",
    "from tensorflow.keras.models import Model, load_model\n",
    "from tensorflow.keras.optimizers import SGD, Adam\n",
    "from tensorflow.keras.callbacks import EarlyStopping, ModelCheckpoint"
   ]
  },
  {
   "cell_type": "markdown",
   "id": "7ce51c14-f320-4b10-a1d7-390b84f52667",
   "metadata": {
    "tags": []
   },
   "source": [
    "# 3. Data Preprocessing"
   ]
  },
  {
   "cell_type": "markdown",
   "id": "23f95dab-42f6-4dc2-ab2b-8f78bdea6b2e",
   "metadata": {
    "tags": []
   },
   "source": [
    "### 3-3-1. Seed Fix"
   ]
  },
  {
   "cell_type": "code",
   "execution_count": 5,
   "id": "94c1dd8c-a9f0-4cb3-b86b-fcee7fd2f525",
   "metadata": {},
   "outputs": [],
   "source": [
    "# fix random seed for reproductibility\n",
    "seed = 777\n",
    "np.random.seed(seed)\n",
    "tf.random.set_seed(seed)"
   ]
  },
  {
   "cell_type": "markdown",
   "id": "03a41a2e-cf5c-42be-bdd3-972408f9f674",
   "metadata": {},
   "source": [
    "### 3-3-2. Hyper parameters"
   ]
  },
  {
   "cell_type": "code",
   "execution_count": 6,
   "id": "67cb9992-f114-4f26-8da2-a6033e7910ed",
   "metadata": {},
   "outputs": [],
   "source": [
    "# hyper parameter\n",
    "IMG_WIDTH = 256\n",
    "IMG_HEIGHT = 256\n",
    "IMG_CHANNELS = 3\n",
    "N_CLASSES = 2\n",
    "EPOCHS = 80\n",
    "BATCH_SIZE = 32"
   ]
  },
  {
   "cell_type": "code",
   "execution_count": null,
   "id": "e051905e-26b1-4c70-950b-b3ba5dc193a7",
   "metadata": {},
   "outputs": [],
   "source": [
    "image_path = './data/image/.png' # (256, 256, 3)\n",
    "label_path = './data/label/.png' # (256, 256, 3)"
   ]
  },
  {
   "cell_type": "code",
   "execution_count": 6,
   "id": "3c9a6741-06da-48aa-a9a1-a7a7710e0d2b",
   "metadata": {},
   "outputs": [
    {
     "name": "stdout",
     "output_type": "stream",
     "text": [
      "(256, 256, 3)\n",
      "(256, 256, 3)\n"
     ]
    }
   ],
   "source": [
    "# # sample\n",
    "# image_cv2 = cv2.imread('./data/image/resize_CHNCXR_0001_0.png')\n",
    "# label_cv2 = cv2.imread('./data/label/resize_CHNCXR_0001_0.png')\n",
    "# print(image_cv2.shape) # (256, 256, 3)\n",
    "# print(label_cv2.shape) # (256, 256, 3)\n",
    "\n",
    "# cv2.imshow('image_cv2', image_cv2)\n",
    "# cv2.imshow('label_cv2', label_cv2)\n",
    "\n",
    "# cv2.waitKey(0)\n",
    "# cv2.destroyAllWindows()"
   ]
  },
  {
   "cell_type": "code",
   "execution_count": 62,
   "id": "fe0fb8bf-15d3-4ff7-9fd6-e45edbcc068b",
   "metadata": {},
   "outputs": [
    {
     "name": "stdout",
     "output_type": "stream",
     "text": [
      "(256, 256)\n"
     ]
    }
   ],
   "source": [
    "# label_gray = cv2.imread('./data/label/resize_CHNCXR_0001_0.png', cv2.IMREAD_GRAYSCALE)\n",
    "label_gray = cv2.imread('./data/label/resize_CHNCXR_0075_0.png', cv2.IMREAD_GRAYSCALE)\n",
    "print(label_gray.shape) # (256, 256)\n",
    "\n",
    "cv2.imshow('label_gray', label_gray)\n",
    "\n",
    "cv2.waitKey(0)\n",
    "cv2.destroyAllWindows()"
   ]
  },
  {
   "cell_type": "markdown",
   "id": "d07314b1-017f-44a1-94d2-bae0df9128b6",
   "metadata": {},
   "source": [
    "- (256, 256) 이미지에서 가로 스캔이 먼저 되는 것(배경 제외)이 100의 픽셀 값을 가진다. "
   ]
  },
  {
   "cell_type": "code",
   "execution_count": 118,
   "id": "53e17e1b-2de4-4df2-8bd1-c1001ec7048f",
   "metadata": {},
   "outputs": [
    {
     "name": "stdout",
     "output_type": "stream",
     "text": [
      "(array([  0, 100, 200], dtype=uint8), array([55498,  4870,  5168], dtype=int64))\n",
      "(256, 256)\n"
     ]
    }
   ],
   "source": [
    "np.random.seed(777)\n",
    "\n",
    "cnt, labels = cv2.connectedComponents(label_gray)\n",
    "# print(cnt) # 3\n",
    "# print(labels.shape) # (256, 256)\n",
    "\n",
    "ambiguous_count = 0\n",
    "mass_a = np.zeros_like(label_gray)\n",
    "mass_b = np.zeros_like(label_gray)\n",
    "\n",
    "for i in range(cnt):\n",
    "    # mass[labels==i] = [int(j) for j in np.random.randint(0, 255, 1)] # list 값 1개\n",
    "    if i == 0:\n",
    "        mass_a[labels==i] = [0] # list 값 1개\n",
    "        mass_b[labels==i] = [0] # list 값 1개\n",
    "    elif i == 1:\n",
    "        mass_a[labels==i] = [100] # list 값 1개\n",
    "        mass_b[labels==i] = [100] # list 값 1개\n",
    "    elif i == 2:\n",
    "        mass_a[labels==i] = [200] # list 값 1개\n",
    "        mass_b[labels==i] = [200] # list 값 1개\n",
    "    else:\n",
    "        mass_a[labels==i] = [0]\n",
    "        mass_b[labels==i] = [0]\n",
    "        print(f\"ambiguous pixel count: {ambiguous_count}\")\n",
    "        ambiguous_count += 1\n",
    "                       \n",
    "print(np.unique(mass_a, return_counts=True))\n",
    "print(mass_a.shape)\n",
    "# (array([ 47,  59, 103], dtype=uint8), array([ 8209,  7871, 49456], dtype=int64))\n",
    "# (256, 256)\n",
    "\n",
    "# opencv 시각화\n",
    "cv2.imshow('label_gray', label_gray)\n",
    "cv2.imshow('mass_a', mass_a)\n",
    "cv2.waitKey(0)\n",
    "cv2.destroyAllWindows()"
   ]
  },
  {
   "cell_type": "code",
   "execution_count": 119,
   "id": "2f33a7b0-cc6f-41a2-9dd5-95a83b96b85c",
   "metadata": {},
   "outputs": [
    {
     "name": "stdout",
     "output_type": "stream",
     "text": [
      "[100 200]\n",
      "[100 200]\n",
      "[4870 5168]\n",
      "[4870 5168]\n"
     ]
    }
   ],
   "source": [
    "mass_a_info = np.unique(mass_a, return_counts=True)\n",
    "mass_b_info = np.unique(mass_b, return_counts=True)\n",
    "\n",
    "a_index = np.delete(mass_a_info[0], np.argmax(mass_a_info[1]))\n",
    "print(a_index)\n",
    "b_index = np.delete(mass_b_info[0], np.argmax(mass_b_info[1]))\n",
    "print(a_index)\n",
    "\n",
    "a_pixel_volume = np.delete(mass_a_info[1], np.argmax(mass_a_info[1]))\n",
    "print(a_pixel_volume)\n",
    "b_pixel_volume = np.delete(mass_b_info[1], np.argmax(mass_b_info[1]))\n",
    "print(b_pixel_volume)\n",
    "\n",
    "mass_a[mass_a==a_index[np.argmax(a_pixel_volume)]] = 1\n",
    "mass_a[mass_a!=1] = 0\n",
    "\n",
    "mass_b[mass_b==b_index[np.argmin(b_pixel_volume)]] = 1\n",
    "mass_b[mass_b!=1] = 0"
   ]
  },
  {
   "cell_type": "code",
   "execution_count": 123,
   "id": "fbd48f0e-989d-4f5a-b317-4b6fcb03cc96",
   "metadata": {},
   "outputs": [
    {
     "name": "stdout",
     "output_type": "stream",
     "text": [
      "(256, 256)\n",
      "(256, 256)\n",
      "(array([0, 1], dtype=uint8), array([60368,  5168], dtype=int64))\n",
      "(array([0, 1], dtype=uint8), array([60666,  4870], dtype=int64))\n"
     ]
    }
   ],
   "source": [
    "print(mass_a.shape)\n",
    "print(mass_b.shape)\n",
    "\n",
    "# mass_a_count = mass_a.flatten()\n",
    "# mass_b_count = mass_b.flatten()\n",
    "# print(mass_a_count.shape, mass_a_count)\n",
    "# print(mass_b_count.shape, mass_b_count)\n",
    "print(np.unique(mass_a, return_counts=True))\n",
    "print(np.unique(mass_b, return_counts=True))"
   ]
  },
  {
   "cell_type": "markdown",
   "id": "292dbbf1-2d99-4fe1-93a8-2489316cff81",
   "metadata": {},
   "source": [
    "- 좌우 구분 어떻게 하지?"
   ]
  },
  {
   "cell_type": "code",
   "execution_count": 147,
   "id": "361f8cc0-8849-4951-aa71-46e8b6a5ada1",
   "metadata": {},
   "outputs": [
    {
     "name": "stdout",
     "output_type": "stream",
     "text": [
      "(256, 128)\n",
      "[[0 0 0 ... 0 0 0]\n",
      " [0 0 0 ... 0 0 0]\n",
      " [0 0 0 ... 0 0 0]\n",
      " ...\n",
      " [0 0 0 ... 0 0 0]\n",
      " [0 0 0 ... 0 0 0]\n",
      " [0 0 0 ... 0 0 0]]\n",
      "(256, 128)\n",
      "[[0 0 0 ... 0 0 0]\n",
      " [0 0 0 ... 0 0 0]\n",
      " [0 0 0 ... 0 0 0]\n",
      " ...\n",
      " [0 0 0 ... 0 0 0]\n",
      " [0 0 0 ... 0 0 0]\n",
      " [0 0 0 ... 0 0 0]]\n",
      "(array([0, 1], dtype=uint8), array([27600,  5168], dtype=int64))\n",
      "(array([0], dtype=uint8), array([32768], dtype=int64))\n"
     ]
    }
   ],
   "source": [
    "print(mass_a[:, :128].shape)\n",
    "print(mass_a[:, :128])\n",
    "print(mass_a[:, 128:].shape)\n",
    "print(mass_a[:, 128:])\n",
    "\n",
    "print(np.unique(mass_a[:, 128:], return_counts=True))\n",
    "print(np.unique(mass_a[:, :128], return_counts=True))"
   ]
  },
  {
   "cell_type": "code",
   "execution_count": 154,
   "id": "1e45a92b-8b5a-4db6-ad5e-027a17ebc97a",
   "metadata": {},
   "outputs": [
    {
     "name": "stdout",
     "output_type": "stream",
     "text": [
      "(array([0, 1], dtype=uint8), array([27600,  5168], dtype=int64))\n",
      "(array([0], dtype=uint8), array([32768], dtype=int64))\n",
      "[0 1]\n",
      "<class 'numpy.ndarray'>\n",
      "[0, 1]\n",
      "우폐 없음\n",
      "[[0 0 0 ... 0 0 0]\n",
      " [0 0 0 ... 0 0 0]\n",
      " [0 0 0 ... 0 0 0]\n",
      " ...\n",
      " [0 0 0 ... 0 0 0]\n",
      " [0 0 0 ... 0 0 0]\n",
      " [0 0 0 ... 0 0 0]]\n",
      "(256, 256)\n"
     ]
    }
   ],
   "source": [
    "# 이미지 상으로는 좌측에 있는 것이 ~right~, 우측에 있는 것이 ~left~ 변수 형태로 선언한다.\n",
    "mass_a_left_info = np.unique(mass_a[:, 128:], return_counts=True)\n",
    "mass_a_right_info = np.unique(mass_a[:, :128], return_counts=True)\n",
    "print(mass_a_left_info)\n",
    "print(mass_a_right_info)\n",
    "# print(np.argmax(mass_a_left_info[1]))\n",
    "\n",
    "print(mass_a_left_info[0])\n",
    "print(type(mass_a_left_info[0]))\n",
    "\n",
    "print(list(mass_a_left_info[0]))\n",
    "\n",
    "\n",
    "if 1 not in mass_a_left_info[0]:\n",
    "    print(\"좌폐 없음\")\n",
    "\n",
    "elif 1 not in mass_a_right_info[0]:\n",
    "    print(\"우폐 없음\")\n",
    "    mask_l = mass_a\n",
    "    \n",
    "else:\n",
    "    mask_a_left_info[# 픽셀 개수 비교\n",
    "\n",
    "\n",
    "print(mask_l)\n",
    "print(mask_l.shape)"
   ]
  },
  {
   "cell_type": "code",
   "execution_count": 153,
   "id": "761bebb8-a348-44b6-876f-220558955e6e",
   "metadata": {},
   "outputs": [
    {
     "ename": "NameError",
     "evalue": "name 'mask_a_left_info' is not defined",
     "output_type": "error",
     "traceback": [
      "\u001b[1;31m---------------------------------------------------------------------------\u001b[0m",
      "\u001b[1;31mNameError\u001b[0m                                 Traceback (most recent call last)",
      "\u001b[1;32m~\\AppData\\Local\\Temp/ipykernel_13236/2833930516.py\u001b[0m in \u001b[0;36m<module>\u001b[1;34m\u001b[0m\n\u001b[1;32m----> 1\u001b[1;33m \u001b[0mmask_a_left_info\u001b[0m\u001b[1;33m[\u001b[0m\u001b[0mmask_a_left_info\u001b[0m\u001b[1;33m==\u001b[0m\u001b[1;36m1\u001b[0m\u001b[1;33m]\u001b[0m\u001b[1;33m\u001b[0m\u001b[1;33m\u001b[0m\u001b[0m\n\u001b[0m",
      "\u001b[1;31mNameError\u001b[0m: name 'mask_a_left_info' is not defined"
     ]
    }
   ],
   "source": [
    "mask_a_left_info[mask_a_left_info==1]"
   ]
  },
  {
   "cell_type": "code",
   "execution_count": 131,
   "id": "be39a20f-a2ad-4ae1-9dd1-4b0a1cf055a6",
   "metadata": {},
   "outputs": [
    {
     "name": "stdout",
     "output_type": "stream",
     "text": [
      "(256, 128)\n",
      "[[0 0 0 ... 0 0 0]\n",
      " [0 0 0 ... 0 0 0]\n",
      " [0 0 0 ... 0 0 0]\n",
      " ...\n",
      " [0 0 0 ... 0 0 0]\n",
      " [0 0 0 ... 0 0 0]\n",
      " [0 0 0 ... 0 0 0]]\n",
      "(256, 128)\n",
      "[[0 0 0 ... 0 0 0]\n",
      " [0 0 0 ... 0 0 0]\n",
      " [0 0 0 ... 0 0 0]\n",
      " ...\n",
      " [0 0 0 ... 0 0 0]\n",
      " [0 0 0 ... 0 0 0]\n",
      " [0 0 0 ... 0 0 0]]\n",
      "(array([0, 1], dtype=uint8), array([27898,  4870], dtype=int64))\n",
      "(array([0], dtype=uint8), array([32768], dtype=int64))\n"
     ]
    }
   ],
   "source": [
    "print(mass_b[:, :128].shape)\n",
    "print(mass_b[:, :128])\n",
    "print(mass_b[:, 128:].shape)\n",
    "print(mass_b[:, 128:])\n",
    "\n",
    "print(np.unique(mass_b[:, :128], return_counts=True))\n",
    "print(np.unique(mass_b[:, 128:], return_counts=True))"
   ]
  },
  {
   "cell_type": "code",
   "execution_count": null,
   "id": "9ed01e8b-15b7-4ff2-a41a-b19a9ecb4483",
   "metadata": {},
   "outputs": [],
   "source": []
  },
  {
   "cell_type": "code",
   "execution_count": null,
   "id": "8c4942c2-eb12-44b2-adb4-40081cb74977",
   "metadata": {},
   "outputs": [],
   "source": [
    "print(mass_a"
   ]
  },
  {
   "cell_type": "code",
   "execution_count": null,
   "id": "1d5f1cdb-0239-4552-b4ff-bb875eb4b483",
   "metadata": {},
   "outputs": [],
   "source": [
    "[100 200]\n",
    "[4870 5168]"
   ]
  },
  {
   "cell_type": "code",
   "execution_count": null,
   "id": "111cfa01-7c16-4362-bbd8-382256d751e5",
   "metadata": {},
   "outputs": [],
   "source": [
    "0~5\n",
    "0 1 2 3 4 5\n",
    "0 + 5 / 2 = 2.5\n",
    "-> 3"
   ]
  },
  {
   "cell_type": "code",
   "execution_count": 58,
   "id": "945acee4-60f5-490e-8f48-706ed5eb8166",
   "metadata": {},
   "outputs": [
    {
     "name": "stdout",
     "output_type": "stream",
     "text": [
      "[0 2 4]\n",
      "[0, 2, 4]\n"
     ]
    }
   ],
   "source": [
    "a = np.array([0, 2, 4, 6, 8, 10])\n",
    "b = [0, 2, 4, 6, 8, 10]\n",
    "print(a[:3])\n",
    "print(b[:3])"
   ]
  },
  {
   "cell_type": "code",
   "execution_count": null,
   "id": "4617920e-8f9b-4e53-a0ba-e4f254b48beb",
   "metadata": {},
   "outputs": [],
   "source": []
  }
 ],
 "metadata": {
  "kernelspec": {
   "display_name": "tf240",
   "language": "python",
   "name": "tf240"
  },
  "language_info": {
   "codemirror_mode": {
    "name": "ipython",
    "version": 3
   },
   "file_extension": ".py",
   "mimetype": "text/x-python",
   "name": "python",
   "nbconvert_exporter": "python",
   "pygments_lexer": "ipython3",
   "version": "3.8.12"
  }
 },
 "nbformat": 4,
 "nbformat_minor": 5
}
